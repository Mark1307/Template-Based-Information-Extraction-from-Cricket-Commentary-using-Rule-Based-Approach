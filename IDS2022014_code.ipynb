{
  "nbformat": 4,
  "nbformat_minor": 0,
  "metadata": {
    "colab": {
      "provenance": []
    },
    "kernelspec": {
      "name": "python3",
      "display_name": "Python 3"
    },
    "language_info": {
      "name": "python"
    },
    "gpuClass": "standard"
  },
  "cells": [
    {
      "cell_type": "markdown",
      "source": [
        "## Importing Dataset and required libraries"
      ],
      "metadata": {
        "id": "hpnbHbsVOsuY"
      }
    },
    {
      "cell_type": "code",
      "source": [
        "import pandas as pd\n",
        "import numpy as np\n",
        "import seaborn as sns\n",
        "import matplotlib.pyplot as plt"
      ],
      "metadata": {
        "id": "rBM3Ov-YiGxV"
      },
      "execution_count": null,
      "outputs": []
    },
    {
      "cell_type": "code",
      "source": [
        "data = pd.read_csv('/content/IPL_Match_Highlights_Commentary.csv')\n",
        "data"
      ],
      "metadata": {
        "colab": {
          "base_uri": "https://localhost:8080/",
          "height": 423
        },
        "id": "_XTXNrBMHvip",
        "outputId": "0f796738-4692-4262-d176-2e9b168ad3a7"
      },
      "execution_count": null,
      "outputs": [
        {
          "output_type": "execute_result",
          "data": {
            "text/plain": [
              "       Match_id          Team  Over_num  \\\n",
              "0       4281444  RCB 1st Inns       0.5   \n",
              "1       4281444  RCB 1st Inns       1.0   \n",
              "2       4281444  RCB 1st Inns      10.0   \n",
              "3       4281444  RCB 1st Inns      10.4   \n",
              "4       4281444  RCB 1st Inns      10.5   \n",
              "...         ...           ...       ...   \n",
              "11569   5937426   RR 1st Inns       4.0   \n",
              "11570   5937426   RR 1st Inns       5.2   \n",
              "11571   5937426   RR 1st Inns       6.2   \n",
              "11572   5937426   RR 1st Inns       7.0   \n",
              "11573   5937426   RR 1st Inns       8.1   \n",
              "\n",
              "                                              Commentary  \n",
              "0      Nehra to Mandeep, FOUR, first boundary for Man...  \n",
              "1      Nehra to Mandeep, FOUR, back-to-back boundarie...  \n",
              "2      Henriques to Kedar Jadhav, FOUR, hit straight ...  \n",
              "3      Nehra to Kedar Jadhav, FOUR, another full toss...  \n",
              "4      Nehra to Kedar Jadhav, FOUR, four more. Jadhav...  \n",
              "...                                                  ...  \n",
              "11569  Rabada to Smith, FOUR, who'd've thought the wo...  \n",
              "11570  Harshal Patel to Jaiswal, SIX, short ball, and...  \n",
              "11571  Ashwin to Smith, FOUR, a rare rank half-tracke...  \n",
              "11572  Ashwin to Jaiswal, 1 run, pushes this one hast...  \n",
              "11573  Nortje to Smith, out Caught by Hetmyer! That's...  \n",
              "\n",
              "[11574 rows x 4 columns]"
            ],
            "text/html": [
              "\n",
              "  <div id=\"df-f620168d-a709-49ea-bcf7-1e1766d323d8\">\n",
              "    <div class=\"colab-df-container\">\n",
              "      <div>\n",
              "<style scoped>\n",
              "    .dataframe tbody tr th:only-of-type {\n",
              "        vertical-align: middle;\n",
              "    }\n",
              "\n",
              "    .dataframe tbody tr th {\n",
              "        vertical-align: top;\n",
              "    }\n",
              "\n",
              "    .dataframe thead th {\n",
              "        text-align: right;\n",
              "    }\n",
              "</style>\n",
              "<table border=\"1\" class=\"dataframe\">\n",
              "  <thead>\n",
              "    <tr style=\"text-align: right;\">\n",
              "      <th></th>\n",
              "      <th>Match_id</th>\n",
              "      <th>Team</th>\n",
              "      <th>Over_num</th>\n",
              "      <th>Commentary</th>\n",
              "    </tr>\n",
              "  </thead>\n",
              "  <tbody>\n",
              "    <tr>\n",
              "      <th>0</th>\n",
              "      <td>4281444</td>\n",
              "      <td>RCB 1st Inns</td>\n",
              "      <td>0.5</td>\n",
              "      <td>Nehra to Mandeep, FOUR, first boundary for Man...</td>\n",
              "    </tr>\n",
              "    <tr>\n",
              "      <th>1</th>\n",
              "      <td>4281444</td>\n",
              "      <td>RCB 1st Inns</td>\n",
              "      <td>1.0</td>\n",
              "      <td>Nehra to Mandeep, FOUR, back-to-back boundarie...</td>\n",
              "    </tr>\n",
              "    <tr>\n",
              "      <th>2</th>\n",
              "      <td>4281444</td>\n",
              "      <td>RCB 1st Inns</td>\n",
              "      <td>10.0</td>\n",
              "      <td>Henriques to Kedar Jadhav, FOUR, hit straight ...</td>\n",
              "    </tr>\n",
              "    <tr>\n",
              "      <th>3</th>\n",
              "      <td>4281444</td>\n",
              "      <td>RCB 1st Inns</td>\n",
              "      <td>10.4</td>\n",
              "      <td>Nehra to Kedar Jadhav, FOUR, another full toss...</td>\n",
              "    </tr>\n",
              "    <tr>\n",
              "      <th>4</th>\n",
              "      <td>4281444</td>\n",
              "      <td>RCB 1st Inns</td>\n",
              "      <td>10.5</td>\n",
              "      <td>Nehra to Kedar Jadhav, FOUR, four more. Jadhav...</td>\n",
              "    </tr>\n",
              "    <tr>\n",
              "      <th>...</th>\n",
              "      <td>...</td>\n",
              "      <td>...</td>\n",
              "      <td>...</td>\n",
              "      <td>...</td>\n",
              "    </tr>\n",
              "    <tr>\n",
              "      <th>11569</th>\n",
              "      <td>5937426</td>\n",
              "      <td>RR 1st Inns</td>\n",
              "      <td>4.0</td>\n",
              "      <td>Rabada to Smith, FOUR, who'd've thought the wo...</td>\n",
              "    </tr>\n",
              "    <tr>\n",
              "      <th>11570</th>\n",
              "      <td>5937426</td>\n",
              "      <td>RR 1st Inns</td>\n",
              "      <td>5.2</td>\n",
              "      <td>Harshal Patel to Jaiswal, SIX, short ball, and...</td>\n",
              "    </tr>\n",
              "    <tr>\n",
              "      <th>11571</th>\n",
              "      <td>5937426</td>\n",
              "      <td>RR 1st Inns</td>\n",
              "      <td>6.2</td>\n",
              "      <td>Ashwin to Smith, FOUR, a rare rank half-tracke...</td>\n",
              "    </tr>\n",
              "    <tr>\n",
              "      <th>11572</th>\n",
              "      <td>5937426</td>\n",
              "      <td>RR 1st Inns</td>\n",
              "      <td>7.0</td>\n",
              "      <td>Ashwin to Jaiswal, 1 run, pushes this one hast...</td>\n",
              "    </tr>\n",
              "    <tr>\n",
              "      <th>11573</th>\n",
              "      <td>5937426</td>\n",
              "      <td>RR 1st Inns</td>\n",
              "      <td>8.1</td>\n",
              "      <td>Nortje to Smith, out Caught by Hetmyer! That's...</td>\n",
              "    </tr>\n",
              "  </tbody>\n",
              "</table>\n",
              "<p>11574 rows × 4 columns</p>\n",
              "</div>\n",
              "      <button class=\"colab-df-convert\" onclick=\"convertToInteractive('df-f620168d-a709-49ea-bcf7-1e1766d323d8')\"\n",
              "              title=\"Convert this dataframe to an interactive table.\"\n",
              "              style=\"display:none;\">\n",
              "        \n",
              "  <svg xmlns=\"http://www.w3.org/2000/svg\" height=\"24px\"viewBox=\"0 0 24 24\"\n",
              "       width=\"24px\">\n",
              "    <path d=\"M0 0h24v24H0V0z\" fill=\"none\"/>\n",
              "    <path d=\"M18.56 5.44l.94 2.06.94-2.06 2.06-.94-2.06-.94-.94-2.06-.94 2.06-2.06.94zm-11 1L8.5 8.5l.94-2.06 2.06-.94-2.06-.94L8.5 2.5l-.94 2.06-2.06.94zm10 10l.94 2.06.94-2.06 2.06-.94-2.06-.94-.94-2.06-.94 2.06-2.06.94z\"/><path d=\"M17.41 7.96l-1.37-1.37c-.4-.4-.92-.59-1.43-.59-.52 0-1.04.2-1.43.59L10.3 9.45l-7.72 7.72c-.78.78-.78 2.05 0 2.83L4 21.41c.39.39.9.59 1.41.59.51 0 1.02-.2 1.41-.59l7.78-7.78 2.81-2.81c.8-.78.8-2.07 0-2.86zM5.41 20L4 18.59l7.72-7.72 1.47 1.35L5.41 20z\"/>\n",
              "  </svg>\n",
              "      </button>\n",
              "      \n",
              "  <style>\n",
              "    .colab-df-container {\n",
              "      display:flex;\n",
              "      flex-wrap:wrap;\n",
              "      gap: 12px;\n",
              "    }\n",
              "\n",
              "    .colab-df-convert {\n",
              "      background-color: #E8F0FE;\n",
              "      border: none;\n",
              "      border-radius: 50%;\n",
              "      cursor: pointer;\n",
              "      display: none;\n",
              "      fill: #1967D2;\n",
              "      height: 32px;\n",
              "      padding: 0 0 0 0;\n",
              "      width: 32px;\n",
              "    }\n",
              "\n",
              "    .colab-df-convert:hover {\n",
              "      background-color: #E2EBFA;\n",
              "      box-shadow: 0px 1px 2px rgba(60, 64, 67, 0.3), 0px 1px 3px 1px rgba(60, 64, 67, 0.15);\n",
              "      fill: #174EA6;\n",
              "    }\n",
              "\n",
              "    [theme=dark] .colab-df-convert {\n",
              "      background-color: #3B4455;\n",
              "      fill: #D2E3FC;\n",
              "    }\n",
              "\n",
              "    [theme=dark] .colab-df-convert:hover {\n",
              "      background-color: #434B5C;\n",
              "      box-shadow: 0px 1px 3px 1px rgba(0, 0, 0, 0.15);\n",
              "      filter: drop-shadow(0px 1px 2px rgba(0, 0, 0, 0.3));\n",
              "      fill: #FFFFFF;\n",
              "    }\n",
              "  </style>\n",
              "\n",
              "      <script>\n",
              "        const buttonEl =\n",
              "          document.querySelector('#df-f620168d-a709-49ea-bcf7-1e1766d323d8 button.colab-df-convert');\n",
              "        buttonEl.style.display =\n",
              "          google.colab.kernel.accessAllowed ? 'block' : 'none';\n",
              "\n",
              "        async function convertToInteractive(key) {\n",
              "          const element = document.querySelector('#df-f620168d-a709-49ea-bcf7-1e1766d323d8');\n",
              "          const dataTable =\n",
              "            await google.colab.kernel.invokeFunction('convertToInteractive',\n",
              "                                                     [key], {});\n",
              "          if (!dataTable) return;\n",
              "\n",
              "          const docLinkHtml = 'Like what you see? Visit the ' +\n",
              "            '<a target=\"_blank\" href=https://colab.research.google.com/notebooks/data_table.ipynb>data table notebook</a>'\n",
              "            + ' to learn more about interactive tables.';\n",
              "          element.innerHTML = '';\n",
              "          dataTable['output_type'] = 'display_data';\n",
              "          await google.colab.output.renderOutput(dataTable, element);\n",
              "          const docLink = document.createElement('div');\n",
              "          docLink.innerHTML = docLinkHtml;\n",
              "          element.appendChild(docLink);\n",
              "        }\n",
              "      </script>\n",
              "    </div>\n",
              "  </div>\n",
              "  "
            ]
          },
          "metadata": {},
          "execution_count": 7
        }
      ]
    },
    {
      "cell_type": "markdown",
      "source": [
        "## Data Preprocessing"
      ],
      "metadata": {
        "id": "2VgIbnDEPTYU"
      }
    },
    {
      "cell_type": "code",
      "source": [
        "# Converting into lowercase\n",
        "data.Commentary = data.Commentary.apply(lambda x : x.lower())"
      ],
      "metadata": {
        "id": "FpAhiEWAPS_N"
      },
      "execution_count": null,
      "outputs": []
    },
    {
      "cell_type": "markdown",
      "source": [
        "## Creating Template"
      ],
      "metadata": {
        "id": "Yj9Nh-YqO7qw"
      }
    },
    {
      "cell_type": "markdown",
      "source": [
        "we are going to create a template which contains\n",
        "1. batsman\n",
        "2. bowler\n",
        "3. speed of the ball\n",
        "4. ball type\n",
        "5. runs/wicket"
      ],
      "metadata": {
        "id": "2_rqIDJZM5dB"
      }
    },
    {
      "cell_type": "code",
      "source": [
        "scorecard_template = {'Batsman' : '', 'Bowler' : '', 'Speed' : '', 'Ball' : '', 'Runs/Wicket' : ''}\n",
        "scorecard_template"
      ],
      "metadata": {
        "colab": {
          "base_uri": "https://localhost:8080/"
        },
        "id": "4FYNFg7b_Edm",
        "outputId": "9d631ee7-81ff-491a-ba6d-95e97a560d7c"
      },
      "execution_count": null,
      "outputs": [
        {
          "output_type": "execute_result",
          "data": {
            "text/plain": [
              "{'Batsman': '', 'Bowler': '', 'Speed': '', 'Ball': '', 'Runs/Wicket': ''}"
            ]
          },
          "metadata": {},
          "execution_count": 9
        }
      ]
    },
    {
      "cell_type": "markdown",
      "source": [
        "## Information Extraction using Rule Based Methods like Regex"
      ],
      "metadata": {
        "id": "C4qd2NEhNfmc"
      }
    },
    {
      "cell_type": "code",
      "source": [
        "import re\n",
        "\n",
        "def extract_information(commentary):\n",
        "\n",
        "  # Extracting Batsman\n",
        "  batsman = commentary.split(',')[0].split(' to ')[1]\n",
        "\n",
        "  # Extracting Bowler\n",
        "  bowler = commentary.split(',')[0].split(' to ')[0]\n",
        "\n",
        "  # Extracting speed\n",
        "  speed_match = re.search(r\"(\\d+(\\.\\d+)?)kph\", commentary)\n",
        "  if speed_match:\n",
        "    speed = speed_match.group(1)+' kmph'\n",
        "  else:\n",
        "    speed = 'NA'\n",
        "\n",
        "  # Ball type : wide / normal / no ball\n",
        "  ball_type = 'wide' if 'wide' in commentary.split(',')[1] else 'no ball' if 'no ball' in commentary.split(',')[1] else 'normal'\n",
        "\n",
        "  # if it is a wide ball\n",
        "  if ball_type == 'wide':\n",
        "    if re.findall(r'run out', commentary.split(',')[2]):\n",
        "      rw = 'run out'\n",
        "    elif re.findall(r'stumped', commentary.split(',')[2]):\n",
        "      rw = 'stump out'      \n",
        "    else:\n",
        "      rw = 'no run'\n",
        "  \n",
        "  # if it is a no ball\n",
        "  elif ball_type == 'no ball':\n",
        "    r_w = commentary.split(',')[2]\n",
        "    out = re.findall(r'out', r_w)\n",
        "    byes = re.findall(r'byes', r_w)\n",
        "    if out:\n",
        "      rw = r_w.split('!!')[0][1:]\n",
        "    elif byes:\n",
        "      rw = commentary.split(',')[2][1:]\n",
        "    else:\n",
        "      rw = r_w[1:]    \n",
        "\n",
        "  # for normal ball\n",
        "  elif ball_type == 'normal':\n",
        "    r_w = commentary.split(',')[1]\n",
        "    out = re.findall(r'out', r_w)\n",
        "    byes = re.findall(r'byes', r_w)\n",
        "    if out:\n",
        "      rw = r_w.split('!!')[0][1:]\n",
        "    elif byes:\n",
        "      rw = commentary.split(',')[2][1:]\n",
        "    else:\n",
        "      rw = r_w[1:]\n",
        "\n",
        "  return batsman, bowler, ball_type, rw, speed\n"
      ],
      "metadata": {
        "id": "sjHKlSJ90I5H"
      },
      "execution_count": null,
      "outputs": []
    },
    {
      "cell_type": "markdown",
      "source": [
        "### Results"
      ],
      "metadata": {
        "id": "WNYWMwxOOneE"
      }
    },
    {
      "cell_type": "code",
      "source": [
        "commentary_number = int(input(\"Enter Commentary Number :\"))\n",
        "comment = data.Commentary[commentary_number]\n",
        "\n",
        "batsman, bowler, ball, rws, speed = extract_information(comment)\n",
        "\n",
        "print()\n",
        "print('*'*50)\n",
        "print()\n",
        "print('Given Commentary line : ',comment)\n",
        "print()\n",
        "print('*'*50)\n",
        "print()\n",
        "\n",
        "print('Batsman    :', batsman.title())\n",
        "print('Bowler     :', bowler.title())\n",
        "print('Ball Speed :', speed)\n",
        "print('Ball       :', ball.title())\n",
        "print('Runs/Out   :', rws.title())"
      ],
      "metadata": {
        "colab": {
          "base_uri": "https://localhost:8080/"
        },
        "id": "7HFOGEo09oet",
        "outputId": "fd74060a-831e-4106-e9c9-d847bda1d6a9"
      },
      "execution_count": null,
      "outputs": [
        {
          "output_type": "stream",
          "name": "stdout",
          "text": [
            "Enter Commentary Number :10107\n",
            "\n",
            "**************************************************\n",
            "\n",
            "Given Commentary line :  hooda to dhawan, wide, out stumped!! that's an excellent piece of keeping from saha, nearly matched msd (in terms of alertness) there. hooda may have second guessed dhawan's intentions and he hurled the ball miles down the leg-side and kept it short too; dhawan was never backing away, went charging down and missed the ball completely. looked to force himself back into the crease, but saha did a wonderful job stretching across to take the bails off in the nick of time. dhawan st saha b hooda 17(16) [4s-3]\n",
            "\n",
            "**************************************************\n",
            "\n",
            "Batsman    : Dhawan\n",
            "Bowler     : Hooda\n",
            "Ball Speed : NA\n",
            "Ball       : Wide\n",
            "Runs/Out   : Stump Out\n"
          ]
        }
      ]
    },
    {
      "cell_type": "code",
      "source": [
        "comment"
      ],
      "metadata": {
        "colab": {
          "base_uri": "https://localhost:8080/",
          "height": 91
        },
        "id": "SIO6MqC3RnKe",
        "outputId": "7d63a6f6-bcb9-4774-8198-6e443143f158"
      },
      "execution_count": null,
      "outputs": [
        {
          "output_type": "execute_result",
          "data": {
            "text/plain": [
              "\"hooda to dhawan, wide, out stumped!! that's an excellent piece of keeping from saha, nearly matched msd (in terms of alertness) there. hooda may have second guessed dhawan's intentions and he hurled the ball miles down the leg-side and kept it short too; dhawan was never backing away, went charging down and missed the ball completely. looked to force himself back into the crease, but saha did a wonderful job stretching across to take the bails off in the nick of time. dhawan st saha b hooda 17(16) [4s-3]\""
            ],
            "application/vnd.google.colaboratory.intrinsic+json": {
              "type": "string"
            }
          },
          "metadata": {},
          "execution_count": 35
        }
      ]
    },
    {
      "cell_type": "markdown",
      "source": [
        "## Template Matching\n",
        "Matching the extracted information with our template"
      ],
      "metadata": {
        "id": "n-9wDrKuNpl8"
      }
    },
    {
      "cell_type": "code",
      "source": [
        "scorecard_template['Batsman'] = batsman\n",
        "scorecard_template['Bowler'] = bowler\n",
        "scorecard_template['Speed'] = speed\n",
        "scorecard_template['Ball'] = ball\n",
        "scorecard_template['Runs/Wicket'] = rws"
      ],
      "metadata": {
        "id": "5U-7nVRtKkZN"
      },
      "execution_count": null,
      "outputs": []
    },
    {
      "cell_type": "code",
      "source": [
        "scorecard_template"
      ],
      "metadata": {
        "colab": {
          "base_uri": "https://localhost:8080/"
        },
        "id": "S_8lNJvyLIaL",
        "outputId": "cafb9e4e-20b2-40b6-b41b-57d2182f6837"
      },
      "execution_count": null,
      "outputs": [
        {
          "output_type": "execute_result",
          "data": {
            "text/plain": [
              "{'Batsman': 'hardik pandya',\n",
              " 'Bowler': 'tom curran',\n",
              " 'Speed': '137.5 kmph',\n",
              " 'Ball': 'normal',\n",
              " 'Runs/Wicket': '2 runs'}"
            ]
          },
          "metadata": {},
          "execution_count": 15
        }
      ]
    },
    {
      "cell_type": "code",
      "source": [],
      "metadata": {
        "id": "kNVRTLItCyUB"
      },
      "execution_count": null,
      "outputs": []
    },
    {
      "cell_type": "code",
      "source": [],
      "metadata": {
        "id": "kgQSo431CyRf"
      },
      "execution_count": null,
      "outputs": []
    },
    {
      "cell_type": "code",
      "source": [],
      "metadata": {
        "id": "9nkf-JromjvG"
      },
      "execution_count": null,
      "outputs": []
    }
  ]
}